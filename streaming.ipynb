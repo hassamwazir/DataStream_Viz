{
 "cells": [
  {
   "cell_type": "code",
   "execution_count": 1,
   "id": "ac74d099",
   "metadata": {},
   "outputs": [],
   "source": [
    "import sys\n",
    "import numpy as np\n",
    "from PyQt5 import QtWidgets, QtCore\n",
    "import pyqtgraph as pg\n"
   ]
  },
  {
   "cell_type": "code",
   "execution_count": 2,
   "id": "eda6b963",
   "metadata": {},
   "outputs": [],
   "source": [
    "\n",
    "class StreamingPlot(QtWidgets.QMainWindow):\n",
    "    def __init__(self):\n",
    "        super().__init__()\n",
    "        self.setWindowTitle(\"Streaming Data Example\")\n",
    "        \n",
    "        # Plot widget\n",
    "        self.plot_widget = pg.PlotWidget()\n",
    "        self.setCentralWidget(self.plot_widget)\n",
    "        \n",
    "        # Curve\n",
    "        self.curve = self.plot_widget.plot(pen='y')\n",
    "        \n",
    "        # Data buffer\n",
    "        self.x = np.arange(1000)\n",
    "        self.y = np.zeros(1000)\n",
    "        \n",
    "        # Timer for updates\n",
    "        self.timer = QtCore.QTimer()\n",
    "        self.timer.timeout.connect(self.update_data)\n",
    "        self.timer.start(20)  # update every 20 ms\n",
    "\n",
    "    def update_data(self):\n",
    "        # Shift data\n",
    "        self.y[:-1] = self.y[1:]\n",
    "        self.y[-1] = np.random.normal()  # new sample\n",
    "        \n",
    "        self.curve.setData(self.x, self.y)\n"
   ]
  },
  {
   "cell_type": "code",
   "execution_count": 3,
   "id": "577ab712",
   "metadata": {},
   "outputs": [
    {
     "ename": "KeyboardInterrupt",
     "evalue": "",
     "output_type": "error",
     "traceback": [
      "\u001b[1;31m---------------------------------------------------------------------------\u001b[0m",
      "\u001b[1;31mKeyboardInterrupt\u001b[0m                         Traceback (most recent call last)",
      "Cell \u001b[1;32mIn[2], line 22\u001b[0m, in \u001b[0;36mStreamingPlot.update_data\u001b[1;34m(self)\u001b[0m\n\u001b[0;32m     19\u001b[0m     \u001b[38;5;28mself\u001b[39m\u001b[38;5;241m.\u001b[39mtimer\u001b[38;5;241m.\u001b[39mtimeout\u001b[38;5;241m.\u001b[39mconnect(\u001b[38;5;28mself\u001b[39m\u001b[38;5;241m.\u001b[39mupdate_data)\n\u001b[0;32m     20\u001b[0m     \u001b[38;5;28mself\u001b[39m\u001b[38;5;241m.\u001b[39mtimer\u001b[38;5;241m.\u001b[39mstart(\u001b[38;5;241m20\u001b[39m)  \u001b[38;5;66;03m# update every 20 ms\u001b[39;00m\n\u001b[1;32m---> 22\u001b[0m \u001b[38;5;28;01mdef\u001b[39;00m \u001b[38;5;21mupdate_data\u001b[39m(\u001b[38;5;28mself\u001b[39m):\n\u001b[0;32m     23\u001b[0m     \u001b[38;5;66;03m# Shift data\u001b[39;00m\n\u001b[0;32m     24\u001b[0m     \u001b[38;5;28mself\u001b[39m\u001b[38;5;241m.\u001b[39my[:\u001b[38;5;241m-\u001b[39m\u001b[38;5;241m1\u001b[39m] \u001b[38;5;241m=\u001b[39m \u001b[38;5;28mself\u001b[39m\u001b[38;5;241m.\u001b[39my[\u001b[38;5;241m1\u001b[39m:]\n\u001b[0;32m     25\u001b[0m     \u001b[38;5;28mself\u001b[39m\u001b[38;5;241m.\u001b[39my[\u001b[38;5;241m-\u001b[39m\u001b[38;5;241m1\u001b[39m] \u001b[38;5;241m=\u001b[39m np\u001b[38;5;241m.\u001b[39mrandom\u001b[38;5;241m.\u001b[39mnormal()  \u001b[38;5;66;03m# new sample\u001b[39;00m\n",
      "\u001b[1;31mKeyboardInterrupt\u001b[0m: "
     ]
    },
    {
     "ename": "SystemExit",
     "evalue": "0",
     "output_type": "error",
     "traceback": [
      "An exception has occurred, use %tb to see the full traceback.\n",
      "\u001b[1;31mSystemExit\u001b[0m\u001b[1;31m:\u001b[0m 0\n"
     ]
    },
    {
     "name": "stderr",
     "output_type": "stream",
     "text": [
      "d:\\Softwares\\Anaconda3\\envs\\dataviz\\Lib\\site-packages\\IPython\\core\\interactiveshell.py:3534: UserWarning: To exit: use 'exit', 'quit', or Ctrl-D.\n",
      "  warn(\"To exit: use 'exit', 'quit', or Ctrl-D.\", stacklevel=1)\n"
     ]
    }
   ],
   "source": [
    "\n",
    "app = QtWidgets.QApplication(sys.argv)\n",
    "win = StreamingPlot()\n",
    "win.show()\n",
    "sys.exit(app.exec_())\n"
   ]
  },
  {
   "cell_type": "code",
   "execution_count": null,
   "id": "c0dc3198",
   "metadata": {},
   "outputs": [
    {
     "ename": "ImportError",
     "evalue": "Could not patch plotting API onto streamz. Streamz could not be imported.",
     "output_type": "error",
     "traceback": [
      "\u001b[1;31m---------------------------------------------------------------------------\u001b[0m",
      "\u001b[1;31mModuleNotFoundError\u001b[0m                       Traceback (most recent call last)",
      "File \u001b[1;32md:\\Softwares\\Anaconda3\\envs\\dataviz\\Lib\\site-packages\\hvplot\\streamz.py:5\u001b[0m, in \u001b[0;36mpatch\u001b[1;34m(name, extension, logo)\u001b[0m\n\u001b[0;32m      4\u001b[0m \u001b[38;5;28;01mtry\u001b[39;00m:\n\u001b[1;32m----> 5\u001b[0m     \u001b[38;5;28;01mimport\u001b[39;00m \u001b[38;5;21;01mstreamz\u001b[39;00m\u001b[38;5;21;01m.\u001b[39;00m\u001b[38;5;21;01mdataframe\u001b[39;00m \u001b[38;5;28;01mas\u001b[39;00m \u001b[38;5;21;01msdf\u001b[39;00m\n\u001b[0;32m      6\u001b[0m \u001b[38;5;28;01mexcept\u001b[39;00m \u001b[38;5;167;01mImportError\u001b[39;00m:\n",
      "\u001b[1;31mModuleNotFoundError\u001b[0m: No module named 'streamz'",
      "\nDuring handling of the above exception, another exception occurred:\n",
      "\u001b[1;31mImportError\u001b[0m                               Traceback (most recent call last)",
      "Cell \u001b[1;32mIn[7], line 1\u001b[0m\n\u001b[1;32m----> 1\u001b[0m \u001b[38;5;28;01mimport\u001b[39;00m \u001b[38;5;21;01mhvplot\u001b[39;00m\u001b[38;5;21;01m.\u001b[39;00m\u001b[38;5;21;01mstreamz\u001b[39;00m\n",
      "File \u001b[1;32md:\\Softwares\\Anaconda3\\envs\\dataviz\\Lib\\site-packages\\hvplot\\streamz.py:24\u001b[0m\n\u001b[0;32m     19\u001b[0m         _module_extensions\u001b[38;5;241m.\u001b[39madd(\u001b[38;5;124m'\u001b[39m\u001b[38;5;124mhvplot.streamz\u001b[39m\u001b[38;5;124m'\u001b[39m)\n\u001b[0;32m     21\u001b[0m     post_patch(extension, logo)\n\u001b[1;32m---> 24\u001b[0m \u001b[43mpatch\u001b[49m\u001b[43m(\u001b[49m\u001b[43m)\u001b[49m\n",
      "File \u001b[1;32md:\\Softwares\\Anaconda3\\envs\\dataviz\\Lib\\site-packages\\hvplot\\streamz.py:7\u001b[0m, in \u001b[0;36mpatch\u001b[1;34m(name, extension, logo)\u001b[0m\n\u001b[0;32m      5\u001b[0m     \u001b[38;5;28;01mimport\u001b[39;00m \u001b[38;5;21;01mstreamz\u001b[39;00m\u001b[38;5;21;01m.\u001b[39;00m\u001b[38;5;21;01mdataframe\u001b[39;00m \u001b[38;5;28;01mas\u001b[39;00m \u001b[38;5;21;01msdf\u001b[39;00m\n\u001b[0;32m      6\u001b[0m \u001b[38;5;28;01mexcept\u001b[39;00m \u001b[38;5;167;01mImportError\u001b[39;00m:\n\u001b[1;32m----> 7\u001b[0m     \u001b[38;5;28;01mraise\u001b[39;00m \u001b[38;5;167;01mImportError\u001b[39;00m(\n\u001b[0;32m      8\u001b[0m         \u001b[38;5;124m'\u001b[39m\u001b[38;5;124mCould not patch plotting API onto streamz. Streamz could not be imported.\u001b[39m\u001b[38;5;124m'\u001b[39m\n\u001b[0;32m      9\u001b[0m     )\n\u001b[0;32m     10\u001b[0m \u001b[38;5;28;01mif\u001b[39;00m \u001b[38;5;124m'\u001b[39m\u001b[38;5;124mhvplot.streamz\u001b[39m\u001b[38;5;124m'\u001b[39m \u001b[38;5;129;01mnot\u001b[39;00m \u001b[38;5;129;01min\u001b[39;00m _module_extensions:\n\u001b[0;32m     11\u001b[0m     _patch_plot \u001b[38;5;241m=\u001b[39m \u001b[38;5;28;01mlambda\u001b[39;00m \u001b[38;5;28mself\u001b[39m: hvPlotTabular(\u001b[38;5;28mself\u001b[39m)  \u001b[38;5;66;03m# noqa: E731\u001b[39;00m\n",
      "\u001b[1;31mImportError\u001b[0m: Could not patch plotting API onto streamz. Streamz could not be imported."
     ]
    }
   ],
   "source": []
  },
  {
   "cell_type": "code",
   "execution_count": null,
   "id": "87045ebe",
   "metadata": {},
   "outputs": [],
   "source": []
  },
  {
   "cell_type": "code",
   "execution_count": null,
   "id": "608da7c4",
   "metadata": {},
   "outputs": [
    {
     "ename": "NameError",
     "evalue": "name 'TornadoDataFrame' is not defined",
     "output_type": "error",
     "traceback": [
      "\u001b[1;31m---------------------------------------------------------------------------\u001b[0m",
      "\u001b[1;31mNameError\u001b[0m                                 Traceback (most recent call last)",
      "Cell \u001b[1;32mIn[3], line 1\u001b[0m\n\u001b[1;32m----> 1\u001b[0m mme_df \u001b[38;5;241m=\u001b[39m \u001b[43mTornadoDataFrame\u001b[49m(interval\u001b[38;5;241m=\u001b[39m\u001b[38;5;124m'\u001b[39m\u001b[38;5;124m300ms\u001b[39m\u001b[38;5;124m'\u001b[39m, datafn\u001b[38;5;241m=\u001b[39mmem_data)\n\u001b[0;32m      2\u001b[0m cpu_df \u001b[38;5;241m=\u001b[39m TornadoDataFrame(interval\u001b[38;5;241m=\u001b[39m\u001b[38;5;124m'\u001b[39m\u001b[38;5;124m300ms\u001b[39m\u001b[38;5;124m'\u001b[39m, datafn\u001b[38;5;241m=\u001b[39mcpu_data)\n\u001b[0;32m      4\u001b[0m cpu_df\n",
      "\u001b[1;31mNameError\u001b[0m: name 'TornadoDataFrame' is not defined"
     ]
    }
   ],
   "source": []
  },
  {
   "cell_type": "code",
   "execution_count": null,
   "id": "4388c333",
   "metadata": {},
   "outputs": [],
   "source": []
  }
 ],
 "metadata": {
  "kernelspec": {
   "display_name": "dataviz",
   "language": "python",
   "name": "python3"
  },
  "language_info": {
   "codemirror_mode": {
    "name": "ipython",
    "version": 3
   },
   "file_extension": ".py",
   "mimetype": "text/x-python",
   "name": "python",
   "nbconvert_exporter": "python",
   "pygments_lexer": "ipython3",
   "version": "3.11.3"
  }
 },
 "nbformat": 4,
 "nbformat_minor": 5
}
